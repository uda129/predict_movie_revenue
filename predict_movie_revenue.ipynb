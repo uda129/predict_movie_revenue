{
 "cells": [
  {
   "cell_type": "markdown",
   "metadata": {
    "colab_type": "text",
    "id": "x_BkOtqBIKQz"
   },
   "source": [
    "# Data Science Challenge"
   ]
  },
  {
   "cell_type": "code",
   "execution_count": 1,
   "metadata": {
    "colab": {},
    "colab_type": "code",
    "id": "U_VthdACIKQ6"
   },
   "outputs": [
    {
     "name": "stdout",
     "output_type": "stream",
     "text": [
      "Requirement already satisfied: xgboost in /opt/conda/lib/python3.7/site-packages (1.1.1)\n",
      "Requirement already satisfied: numpy in /opt/conda/lib/python3.7/site-packages (from xgboost) (1.17.0)\n",
      "Requirement already satisfied: scipy in /opt/conda/lib/python3.7/site-packages (from xgboost) (1.3.1)\n"
     ]
    }
   ],
   "source": [
    "# If you'd like to install packages that aren't installed by default, uncomment the last two lines of this cell and replace <package list> with a list of your packages.\n",
    "# This will ensure your notebook has all the dependencies and works everywhere\n",
    "\n",
    "import sys\n",
    "!{sys.executable} -m pip install xgboost"
   ]
  },
  {
   "cell_type": "code",
   "execution_count": 138,
   "metadata": {
    "colab": {},
    "colab_type": "code",
    "id": "VzGFUCCVIKRL"
   },
   "outputs": [],
   "source": [
    "#Libraries\n",
    "import pandas as pd\n",
    "import numpy as np\n",
    "import matplotlib.pyplot as plt\n",
    "pd.set_option(\"display.max_columns\", 101)\n",
    "from scipy.stats import uniform, randint\n",
    "from datetime import datetime\n",
    "\n",
    "# preprocess lib\n",
    "from scipy.stats import zscore\n",
    "from sklearn.preprocessing import OneHotEncoder\n",
    "\n",
    "# model\n",
    "import xgboost as xgb\n",
    "from sklearn.model_selection import KFold, train_test_split, RandomizedSearchCV\n",
    "\n",
    "# visual lib\n",
    "from sklearn.decomposition import PCA\n",
    "import seaborn as sns\n",
    "\n",
    "# close warning\n",
    "import warnings\n",
    "warnings.filterwarnings('ignore')"
   ]
  },
  {
   "cell_type": "markdown",
   "metadata": {
    "colab_type": "text",
    "id": "TZ23KNY8IKRT"
   },
   "source": [
    "## Data Description"
   ]
  },
  {
   "cell_type": "markdown",
   "metadata": {
    "colab_type": "text",
    "id": "jWSkqquEIKRW"
   },
   "source": [
    "Column | Description\n",
    ":---|:---------\n",
    "`title` |Title of the movie|\n",
    "`country` | Countries in which movie was released|\n",
    "`genres` | Movie Genres (Action ,Adventure, Comedy etc.)\n",
    "`language` | Languages in which movie was released\n",
    "`writer_count` | Number of writers of the movie\n",
    "`title_adaption` | Is movie original screenplay or adapted.\n",
    "`censor_rating` | Release rating given to the movie (R /PG-13/PG/NR/UR/G)\n",
    "`release_date` | Date when movie was released\n",
    "`runtime` | Movie runtime\n",
    "`dvd_release_date` | Date of release of DVD for sale\n",
    "`users_votes` | Number of users who voted for this movie to be included in Watch-It library\n",
    "`comments` | Number of comments on movie trailer(as of now)\n",
    "`likes` | Number of likes on movie trailer (as of now)\n",
    "`overall_views` | Number of views on movie trailer (as of now)\n",
    "`dislikes` | Number of dislikes on movie trailer (as of now)\n",
    "`ratings_imdb` | Rating given to movie on IMDB.\n",
    "`ratings_tomatoes` | Rating given to movie on Rotten tomatoes.\n",
    "`ratings_metacritic` | Rating given to movie on Metacritic etc.\n",
    "`special_award` | Number of awards nominations/winnings in BAFTA, Oscar or  Golden Globe.\n",
    "`awards_win` | awards won by the movie\n",
    "`awards_nomination` | Number of awards nominations\n",
    "`revenue_category` | Revenue Category (High/Low)"
   ]
  },
  {
   "cell_type": "markdown",
   "metadata": {
    "colab_type": "text",
    "id": "BWQqx7cSIKRX"
   },
   "source": [
    "## Data Wrangling & Visualization"
   ]
  },
  {
   "cell_type": "code",
   "execution_count": 3,
   "metadata": {
    "colab": {},
    "colab_type": "code",
    "id": "SsjL7tf7IKRc"
   },
   "outputs": [],
   "source": [
    "# Dataset is already loaded below\n",
    "data = pd.read_csv(\"train.csv\")"
   ]
  },
  {
   "cell_type": "code",
   "execution_count": 143,
   "metadata": {},
   "outputs": [
    {
     "data": {
      "text/plain": [
       "(2400, 22)"
      ]
     },
     "execution_count": 143,
     "metadata": {},
     "output_type": "execute_result"
    }
   ],
   "source": [
    "data.shape"
   ]
  },
  {
   "cell_type": "code",
   "execution_count": 144,
   "metadata": {
    "colab": {},
    "colab_type": "code",
    "id": "kzuHtZEkIKRh",
    "outputId": "9d14832c-2eda-48eb-df41-548113a94a73"
   },
   "outputs": [
    {
     "data": {
      "text/html": [
       "<div>\n",
       "<style scoped>\n",
       "    .dataframe tbody tr th:only-of-type {\n",
       "        vertical-align: middle;\n",
       "    }\n",
       "\n",
       "    .dataframe tbody tr th {\n",
       "        vertical-align: top;\n",
       "    }\n",
       "\n",
       "    .dataframe thead th {\n",
       "        text-align: right;\n",
       "    }\n",
       "</style>\n",
       "<table border=\"1\" class=\"dataframe\">\n",
       "  <thead>\n",
       "    <tr style=\"text-align: right;\">\n",
       "      <th></th>\n",
       "      <th>title</th>\n",
       "      <th>country</th>\n",
       "      <th>genres</th>\n",
       "      <th>language</th>\n",
       "      <th>writer_count</th>\n",
       "      <th>title_adaption</th>\n",
       "      <th>censor_rating</th>\n",
       "      <th>release_date</th>\n",
       "      <th>runtime</th>\n",
       "      <th>dvd_release_date</th>\n",
       "      <th>users_votes</th>\n",
       "      <th>comments</th>\n",
       "      <th>likes</th>\n",
       "      <th>overall_views</th>\n",
       "      <th>dislikes</th>\n",
       "      <th>ratings_imdb</th>\n",
       "      <th>ratings_tomatoes</th>\n",
       "      <th>ratings_metacritic</th>\n",
       "      <th>special_award</th>\n",
       "      <th>awards_win</th>\n",
       "      <th>awards_nomination</th>\n",
       "      <th>revenue_category</th>\n",
       "    </tr>\n",
       "  </thead>\n",
       "  <tbody>\n",
       "    <tr>\n",
       "      <th>0</th>\n",
       "      <td>Pooh's Heffalump Movie</td>\n",
       "      <td>USA</td>\n",
       "      <td>Animation, Comedy, Family, Fantasy, Musical, M...</td>\n",
       "      <td>English</td>\n",
       "      <td>3.0</td>\n",
       "      <td>True</td>\n",
       "      <td>G</td>\n",
       "      <td>11-Feb-05</td>\n",
       "      <td>68 min</td>\n",
       "      <td>24-May-05</td>\n",
       "      <td>5,654</td>\n",
       "      <td>NaN</td>\n",
       "      <td>NaN</td>\n",
       "      <td>NaN</td>\n",
       "      <td>NaN</td>\n",
       "      <td>6.4/10</td>\n",
       "      <td>80%</td>\n",
       "      <td>64/100</td>\n",
       "      <td>0</td>\n",
       "      <td>0</td>\n",
       "      <td>1</td>\n",
       "      <td>High</td>\n",
       "    </tr>\n",
       "    <tr>\n",
       "      <th>1</th>\n",
       "      <td>Yeh Jawaani Hai Deewani</td>\n",
       "      <td>India</td>\n",
       "      <td>Comedy, Drama, Musical, Romance</td>\n",
       "      <td>Hindi, English, French</td>\n",
       "      <td>2.0</td>\n",
       "      <td>True</td>\n",
       "      <td>Not Rated</td>\n",
       "      <td>31-May-13</td>\n",
       "      <td>160 min</td>\n",
       "      <td>15-Jul-13</td>\n",
       "      <td>33,860</td>\n",
       "      <td>9.0</td>\n",
       "      <td>124.0</td>\n",
       "      <td>127528.0</td>\n",
       "      <td>12.0</td>\n",
       "      <td>7.1/10</td>\n",
       "      <td>67%</td>\n",
       "      <td>0</td>\n",
       "      <td>0</td>\n",
       "      <td>22</td>\n",
       "      <td>92</td>\n",
       "      <td>Low</td>\n",
       "    </tr>\n",
       "    <tr>\n",
       "      <th>2</th>\n",
       "      <td>Tae Guk Gi: The Brotherhood of War</td>\n",
       "      <td>South Korea</td>\n",
       "      <td>Action, Drama, War</td>\n",
       "      <td>Korean</td>\n",
       "      <td>4.0</td>\n",
       "      <td>False</td>\n",
       "      <td>R</td>\n",
       "      <td>24-Sep-04</td>\n",
       "      <td>140 min</td>\n",
       "      <td>15-Feb-05</td>\n",
       "      <td>35,697</td>\n",
       "      <td>268.0</td>\n",
       "      <td>614.0</td>\n",
       "      <td>351123.0</td>\n",
       "      <td>18.0</td>\n",
       "      <td>8.1/10</td>\n",
       "      <td>80%</td>\n",
       "      <td>64/100</td>\n",
       "      <td>0</td>\n",
       "      <td>12</td>\n",
       "      <td>7</td>\n",
       "      <td>Low</td>\n",
       "    </tr>\n",
       "    <tr>\n",
       "      <th>3</th>\n",
       "      <td>Book of Eli, The</td>\n",
       "      <td>USA</td>\n",
       "      <td>Action, Adventure, Drama, Thriller</td>\n",
       "      <td>English</td>\n",
       "      <td>1.0</td>\n",
       "      <td>False</td>\n",
       "      <td>R</td>\n",
       "      <td>15-Jan-10</td>\n",
       "      <td>118 min</td>\n",
       "      <td>15-Jun-10</td>\n",
       "      <td>2,71,524</td>\n",
       "      <td>NaN</td>\n",
       "      <td>NaN</td>\n",
       "      <td>NaN</td>\n",
       "      <td>NaN</td>\n",
       "      <td>6.9/10</td>\n",
       "      <td>47%</td>\n",
       "      <td>53/100</td>\n",
       "      <td>0</td>\n",
       "      <td>3</td>\n",
       "      <td>16</td>\n",
       "      <td>High</td>\n",
       "    </tr>\n",
       "    <tr>\n",
       "      <th>4</th>\n",
       "      <td>Blind Dating</td>\n",
       "      <td>USA</td>\n",
       "      <td>Comedy, Romance</td>\n",
       "      <td>English</td>\n",
       "      <td>1.0</td>\n",
       "      <td>False</td>\n",
       "      <td>PG-13</td>\n",
       "      <td>26-Apr-07</td>\n",
       "      <td>95 min</td>\n",
       "      <td>05-Feb-08</td>\n",
       "      <td>11,251</td>\n",
       "      <td>116.0</td>\n",
       "      <td>693.0</td>\n",
       "      <td>970306.0</td>\n",
       "      <td>36.0</td>\n",
       "      <td>6.1/10</td>\n",
       "      <td>25%</td>\n",
       "      <td>0</td>\n",
       "      <td>0</td>\n",
       "      <td>0</td>\n",
       "      <td>0</td>\n",
       "      <td>Low</td>\n",
       "    </tr>\n",
       "  </tbody>\n",
       "</table>\n",
       "</div>"
      ],
      "text/plain": [
       "                                 title      country  \\\n",
       "0              Pooh's Heffalump Movie           USA   \n",
       "1             Yeh Jawaani Hai Deewani         India   \n",
       "2  Tae Guk Gi: The Brotherhood of War   South Korea   \n",
       "3                    Book of Eli, The           USA   \n",
       "4                        Blind Dating           USA   \n",
       "\n",
       "                                              genres                language  \\\n",
       "0  Animation, Comedy, Family, Fantasy, Musical, M...                 English   \n",
       "1                    Comedy, Drama, Musical, Romance  Hindi, English, French   \n",
       "2                                 Action, Drama, War                  Korean   \n",
       "3                 Action, Adventure, Drama, Thriller                 English   \n",
       "4                                    Comedy, Romance                 English   \n",
       "\n",
       "   writer_count  title_adaption censor_rating release_date  runtime  \\\n",
       "0           3.0            True             G    11-Feb-05   68 min   \n",
       "1           2.0            True     Not Rated    31-May-13  160 min   \n",
       "2           4.0           False             R    24-Sep-04  140 min   \n",
       "3           1.0           False             R    15-Jan-10  118 min   \n",
       "4           1.0           False         PG-13    26-Apr-07   95 min   \n",
       "\n",
       "  dvd_release_date users_votes  comments  likes  overall_views  dislikes  \\\n",
       "0        24-May-05       5,654       NaN    NaN            NaN       NaN   \n",
       "1        15-Jul-13      33,860       9.0  124.0       127528.0      12.0   \n",
       "2        15-Feb-05      35,697     268.0  614.0       351123.0      18.0   \n",
       "3        15-Jun-10    2,71,524       NaN    NaN            NaN       NaN   \n",
       "4        05-Feb-08      11,251     116.0  693.0       970306.0      36.0   \n",
       "\n",
       "  ratings_imdb ratings_tomatoes ratings_metacritic  special_award  awards_win  \\\n",
       "0       6.4/10              80%             64/100              0           0   \n",
       "1       7.1/10              67%                  0              0          22   \n",
       "2       8.1/10              80%             64/100              0          12   \n",
       "3       6.9/10              47%             53/100              0           3   \n",
       "4       6.1/10              25%                  0              0           0   \n",
       "\n",
       "   awards_nomination revenue_category  \n",
       "0                  1             High  \n",
       "1                 92              Low  \n",
       "2                  7              Low  \n",
       "3                 16             High  \n",
       "4                  0              Low  "
      ]
     },
     "execution_count": 144,
     "metadata": {},
     "output_type": "execute_result"
    }
   ],
   "source": [
    "data.head()"
   ]
  },
  {
   "cell_type": "code",
   "execution_count": 5,
   "metadata": {
    "colab": {},
    "colab_type": "code",
    "id": "0mhMZRlBIKRu",
    "outputId": "0a669059-5528-4ec0-d64b-8231f6aadf45"
   },
   "outputs": [
    {
     "data": {
      "text/plain": [
       "Index(['title', 'country', 'genres', 'language', 'writer_count',\n",
       "       'title_adaption', 'censor_rating', 'release_date', 'runtime',\n",
       "       'dvd_release_date', 'users_votes', 'comments', 'likes', 'overall_views',\n",
       "       'dislikes', 'ratings_imdb', 'ratings_tomatoes', 'ratings_metacritic',\n",
       "       'special_award', 'awards_win', 'awards_nomination', 'revenue_category'],\n",
       "      dtype='object')"
      ]
     },
     "execution_count": 5,
     "metadata": {},
     "output_type": "execute_result"
    }
   ],
   "source": [
    "#Explore columns\n",
    "data.columns"
   ]
  },
  {
   "cell_type": "code",
   "execution_count": 6,
   "metadata": {
    "colab": {},
    "colab_type": "code",
    "id": "-SrTmyfJIKR1",
    "outputId": "12b270ca-8c3f-402b-d6c1-286c17e63fdd"
   },
   "outputs": [
    {
     "data": {
      "text/html": [
       "<div>\n",
       "<style scoped>\n",
       "    .dataframe tbody tr th:only-of-type {\n",
       "        vertical-align: middle;\n",
       "    }\n",
       "\n",
       "    .dataframe tbody tr th {\n",
       "        vertical-align: top;\n",
       "    }\n",
       "\n",
       "    .dataframe thead th {\n",
       "        text-align: right;\n",
       "    }\n",
       "</style>\n",
       "<table border=\"1\" class=\"dataframe\">\n",
       "  <thead>\n",
       "    <tr style=\"text-align: right;\">\n",
       "      <th></th>\n",
       "      <th>writer_count</th>\n",
       "      <th>comments</th>\n",
       "      <th>likes</th>\n",
       "      <th>overall_views</th>\n",
       "      <th>dislikes</th>\n",
       "      <th>special_award</th>\n",
       "      <th>awards_win</th>\n",
       "      <th>awards_nomination</th>\n",
       "    </tr>\n",
       "  </thead>\n",
       "  <tbody>\n",
       "    <tr>\n",
       "      <th>count</th>\n",
       "      <td>2306.000000</td>\n",
       "      <td>1974.000000</td>\n",
       "      <td>1956.000000</td>\n",
       "      <td>2.083000e+03</td>\n",
       "      <td>1956.000000</td>\n",
       "      <td>2400.000000</td>\n",
       "      <td>2400.000000</td>\n",
       "      <td>2400.000000</td>\n",
       "    </tr>\n",
       "    <tr>\n",
       "      <th>mean</th>\n",
       "      <td>2.596271</td>\n",
       "      <td>546.438197</td>\n",
       "      <td>3113.894172</td>\n",
       "      <td>1.345472e+06</td>\n",
       "      <td>232.665644</td>\n",
       "      <td>0.185417</td>\n",
       "      <td>6.582917</td>\n",
       "      <td>12.698333</td>\n",
       "    </tr>\n",
       "    <tr>\n",
       "      <th>std</th>\n",
       "      <td>2.011586</td>\n",
       "      <td>2103.833164</td>\n",
       "      <td>10213.600411</td>\n",
       "      <td>4.030918e+06</td>\n",
       "      <td>946.288417</td>\n",
       "      <td>0.388716</td>\n",
       "      <td>16.089857</td>\n",
       "      <td>24.925965</td>\n",
       "    </tr>\n",
       "    <tr>\n",
       "      <th>min</th>\n",
       "      <td>1.000000</td>\n",
       "      <td>0.000000</td>\n",
       "      <td>0.000000</td>\n",
       "      <td>2.100000e+01</td>\n",
       "      <td>0.000000</td>\n",
       "      <td>0.000000</td>\n",
       "      <td>0.000000</td>\n",
       "      <td>0.000000</td>\n",
       "    </tr>\n",
       "    <tr>\n",
       "      <th>25%</th>\n",
       "      <td>1.000000</td>\n",
       "      <td>10.000000</td>\n",
       "      <td>99.000000</td>\n",
       "      <td>6.752950e+04</td>\n",
       "      <td>7.000000</td>\n",
       "      <td>0.000000</td>\n",
       "      <td>0.000000</td>\n",
       "      <td>1.000000</td>\n",
       "    </tr>\n",
       "    <tr>\n",
       "      <th>50%</th>\n",
       "      <td>2.000000</td>\n",
       "      <td>57.000000</td>\n",
       "      <td>425.000000</td>\n",
       "      <td>2.816520e+05</td>\n",
       "      <td>30.000000</td>\n",
       "      <td>0.000000</td>\n",
       "      <td>2.000000</td>\n",
       "      <td>5.000000</td>\n",
       "    </tr>\n",
       "    <tr>\n",
       "      <th>75%</th>\n",
       "      <td>3.000000</td>\n",
       "      <td>289.000000</td>\n",
       "      <td>1819.000000</td>\n",
       "      <td>9.855095e+05</td>\n",
       "      <td>121.250000</td>\n",
       "      <td>0.000000</td>\n",
       "      <td>6.000000</td>\n",
       "      <td>12.000000</td>\n",
       "    </tr>\n",
       "    <tr>\n",
       "      <th>max</th>\n",
       "      <td>28.000000</td>\n",
       "      <td>44644.000000</td>\n",
       "      <td>188526.000000</td>\n",
       "      <td>1.071502e+08</td>\n",
       "      <td>29267.000000</td>\n",
       "      <td>1.000000</td>\n",
       "      <td>235.000000</td>\n",
       "      <td>326.000000</td>\n",
       "    </tr>\n",
       "  </tbody>\n",
       "</table>\n",
       "</div>"
      ],
      "text/plain": [
       "       writer_count      comments          likes  overall_views      dislikes  \\\n",
       "count   2306.000000   1974.000000    1956.000000   2.083000e+03   1956.000000   \n",
       "mean       2.596271    546.438197    3113.894172   1.345472e+06    232.665644   \n",
       "std        2.011586   2103.833164   10213.600411   4.030918e+06    946.288417   \n",
       "min        1.000000      0.000000       0.000000   2.100000e+01      0.000000   \n",
       "25%        1.000000     10.000000      99.000000   6.752950e+04      7.000000   \n",
       "50%        2.000000     57.000000     425.000000   2.816520e+05     30.000000   \n",
       "75%        3.000000    289.000000    1819.000000   9.855095e+05    121.250000   \n",
       "max       28.000000  44644.000000  188526.000000   1.071502e+08  29267.000000   \n",
       "\n",
       "       special_award   awards_win  awards_nomination  \n",
       "count    2400.000000  2400.000000        2400.000000  \n",
       "mean        0.185417     6.582917          12.698333  \n",
       "std         0.388716    16.089857          24.925965  \n",
       "min         0.000000     0.000000           0.000000  \n",
       "25%         0.000000     0.000000           1.000000  \n",
       "50%         0.000000     2.000000           5.000000  \n",
       "75%         0.000000     6.000000          12.000000  \n",
       "max         1.000000   235.000000         326.000000  "
      ]
     },
     "execution_count": 6,
     "metadata": {},
     "output_type": "execute_result"
    }
   ],
   "source": [
    "#Description\n",
    "data.describe()"
   ]
  },
  {
   "cell_type": "markdown",
   "metadata": {},
   "source": [
    "##### 13 numercal_features_only "
   ]
  },
  {
   "cell_type": "code",
   "execution_count": 22,
   "metadata": {},
   "outputs": [],
   "source": [
    "def numerical_data_preprocessing(df):\n",
    "    # preprocessing\n",
    "    df['users_votes'] = [''.join(x.split(',')) for x in df['users_votes'].tolist()]\n",
    "    df['runtime'] = [x.split(' ')[0] for x in df['users_votes'].tolist()]\n",
    "    df['ratings_imdb'] = [''.join(x.split('/')[0].split('.')) for x in df['ratings_imdb'].tolist()]\n",
    "    df['ratings_tomatoes'] = [x.split('%')[0] for x in df['ratings_tomatoes'].tolist()]\n",
    "    df['ratings_metacritic'] = [x.split('/')[0] for x in df['ratings_metacritic'].tolist()]\n",
    "    \n",
    "    # replace nan with mean\n",
    "    df = df.fillna(numerical_data.mean())\n",
    "\n",
    "    # to int\n",
    "    df = df.astype(int)\n",
    "    \n",
    "    # normalization\n",
    "    df = df.apply(zscore)\n",
    "    return df"
   ]
  },
  {
   "cell_type": "code",
   "execution_count": 139,
   "metadata": {},
   "outputs": [],
   "source": [
    "numerical_rows = ['writer_count', 'runtime', 'users_votes', 'comments', 'likes', 'overall_views', 'dislikes', 'ratings_imdb', 'ratings_tomatoes', 'ratings_metacritic', 'special_award', 'awards_win', 'awards_nomination']\n",
    "numerical_data = data[numerical_rows]\n",
    "numerical_label = data[['revenue_category']]\n",
    "\n",
    "# preprocessing\n",
    "## data\n",
    "numerical_data = numerical_data_preprocessing(numerical_data)\n",
    "\n",
    "## label\n",
    "revenue_category_list=[]\n",
    "for element in numerical_label['revenue_category']:\n",
    "    if element=='High':\n",
    "        revenue_category_list.append(1)\n",
    "    elif element=='Low':\n",
    "        revenue_category_list.append(0)\n",
    "    else:\n",
    "        revenue_category_list.append(-1)\n",
    "numerical_label['revenue_category'] = revenue_category_list"
   ]
  },
  {
   "cell_type": "code",
   "execution_count": 9,
   "metadata": {},
   "outputs": [
    {
     "data": {
      "text/plain": [
       "<matplotlib.axes._subplots.AxesSubplot at 0x7f9253304978>"
      ]
     },
     "execution_count": 9,
     "metadata": {},
     "output_type": "execute_result"
    },
    {
     "data": {
      "image/png": "[encoded data removed]",
      "text/plain": [
       "<Figure size 432x288 with 2 Axes>"
      ]
     },
     "metadata": {
      "needs_background": "light"
     },
     "output_type": "display_data"
    }
   ],
   "source": [
    "sns.heatmap(numerical_data.corr())"
   ]
  },
  {
   "cell_type": "markdown",
   "metadata": {},
   "source": [
    "##### data visualize"
   ]
  },
  {
   "cell_type": "code",
   "execution_count": 147,
   "metadata": {},
   "outputs": [
    {
     "data": {
      "text/plain": [
       "<matplotlib.collections.PathCollection at 0x7f924d24d240>"
      ]
     },
     "execution_count": 147,
     "metadata": {},
     "output_type": "execute_result"
    },
    {
     "data": {
      "image/png": "[encoded data removed]",
      "text/plain": [
       "<Figure size 1224x576 with 1 Axes>"
      ]
     },
     "metadata": {
      "needs_background": "light"
     },
     "output_type": "display_data"
    }
   ],
   "source": [
    "pca=PCA(n_components=2)\n",
    "pca.fit(numerical_data)\n",
    "pca_result = pca.transform(numerical_data)\n",
    "plt.scatter(pca_result[:,0], pca_result[:,1], c=numerical_label['revenue_category'], s=20, alpha=0.6, marker='o')"
   ]
  },
  {
   "cell_type": "code",
   "execution_count": 11,
   "metadata": {},
   "outputs": [
    {
     "data": {
      "text/plain": [
       "<BarContainer object of 13 artists>"
      ]
     },
     "execution_count": 11,
     "metadata": {},
     "output_type": "execute_result"
    },
    {
     "data": {
      "image/png": "[encoded data removed]",
      "text/plain": [
       "<Figure size 1224x576 with 1 Axes>"
      ]
     },
     "metadata": {
      "needs_background": "light"
     },
     "output_type": "display_data"
    }
   ],
   "source": [
    "pca=PCA()\n",
    "pca.fit(numerical_data)\n",
    "pca_result = pca.transform(numerical_data)\n",
    "plt.rcParams[\"figure.figsize\"]=(17,8)\n",
    "x=numerical_data.columns\n",
    "y=pca.explained_variance_ratio_\n",
    "plt.bar(x,y)"
   ]
  },
  {
   "cell_type": "markdown",
   "metadata": {},
   "source": [
    "##### 13 numercal_features_only + 2 date_features + 5 category_features (on going)"
   ]
  },
  {
   "cell_type": "code",
   "execution_count": 116,
   "metadata": {},
   "outputs": [],
   "source": [
    "def date_to_timestamp(df):\n",
    "    data = df.tolist()\n",
    "    return_list = []\n",
    "    month_dic={'Jan':1, 'Feb':2, 'Mar':3,'Apr':4, 'May':5, 'Jun':6, 'Jul':7, 'Aug':8, 'Sep':9, 'Oct':10, 'Nov':11, 'Dec':12}\n",
    "    for date in df:\n",
    "        if str(date) != 'nan':\n",
    "            day, month, year = date.split('-')\n",
    "            year = \"20\"+year\n",
    "            return_list.append(datetime(int(year),int(month_dic[month]),int(day)).timestamp())\n",
    "        else:\n",
    "            return_list.append(np.nan)\n",
    "    return return_list\n",
    "        "
   ]
  },
  {
   "cell_type": "code",
   "execution_count": 131,
   "metadata": {},
   "outputs": [],
   "source": [
    "def date_data_preprocessing(df): \n",
    "    df['release_date'] = date_to_timestamp(df['release_date'])\n",
    "    df['dvd_release_date'] = date_to_timestamp(df['dvd_release_date'])\n",
    "    \n",
    "    # normalization\n",
    "    df_tmp = df[['release_date', 'dvd_release_date']]\n",
    "    df_tmp = df_tmp.apply(zscore)\n",
    "    df['release_date'] = df_tmp['release_date']\n",
    "    df['dvd_release_date'] = df_tmp['dvd_release_date']\n",
    "    return df"
   ]
  },
  {
   "cell_type": "code",
   "execution_count": null,
   "metadata": {},
   "outputs": [],
   "source": [
    "def category_data_preprocessing(df):\n",
    "    # category_features = country, genres, language, title_adaption, censor_rating\n",
    "    censor_rating = np.array(['nan' if x is np.nan else x for x in df['censor_rating'].values])\n",
    "\n",
    "    ohe_title_adaption = OneHotEncoder().fit_transform(df['title_adaption'].values.reshape(-1,1)).toarray()\n",
    "    ohe_censor_rating = OneHotEncoder().fit_transform(censor_rating.reshape(-1,1)).toarray()\n",
    "\n",
    "    censor_columns = [f'censor_columns{x}' for x in range(ohe_censor_rating.shape[1])]\n",
    "\n",
    "    df_title_adaption= pd.DataFrame(ohe_title_adaption, columns={'title_adaption_0', 'title_adaption_1'})\n",
    "    df_ohe_censor_rating= pd.DataFrame(ohe_censor_rating, columns=[censor_columns])\n",
    "\n",
    "    twentyf_data = twentyf_data.merge(df_title_adaption, left_index=True, right_index=True)\n",
    "    twentyf_data = twentyf_data.merge(df_ohe_censor_rating, left_index=True, right_index=True)\n",
    "    return df"
   ]
  },
  {
   "cell_type": "code",
   "execution_count": 137,
   "metadata": {},
   "outputs": [],
   "source": [
    "# twentyf_data = data.copy()\n",
    "\n",
    "# numerical features\n",
    "# twentyf_data = numerical_data_preprocessing(twentyf_data)\n",
    "\n",
    "# date_features\n",
    "# twentyf_data = date_data_preprocessing(twentyf_data)\n",
    "\n",
    "# category_features:\n",
    "# twentyf_data = category_data_preprocessing(twentyf_data)\n"
   ]
  },
  {
   "cell_type": "markdown",
   "metadata": {
    "colab_type": "text",
    "id": "ymsdDaIPIKSX"
   },
   "source": [
    "## Visualization, Modeling, Machine Learning\n",
    "\n",
    "Can you build a model that can help them predict what titles would be suitable for licensing and identify how different features influence their decision? Please explain your findings effectively to technical and non-technical audiences using comments and visualizations, if appropriate.\n",
    "- **Build an optimized model that effectively solves the business problem.**\n",
    "- **The model would be evaluated on the basis of accuracy.**\n",
    "- **Read the test.csv file and prepare features for testing.**"
   ]
  },
  {
   "cell_type": "markdown",
   "metadata": {},
   "source": [
    "util"
   ]
  },
  {
   "cell_type": "code",
   "execution_count": 48,
   "metadata": {},
   "outputs": [],
   "source": [
    "def display_scores(scores):\n",
    "    print(\"Scores: {0}\\nMean: {1:.3f}\\nStd: {2:.3f}\".format(scores, np.mean(scores), np.std(scores)))"
   ]
  },
  {
   "cell_type": "code",
   "execution_count": 13,
   "metadata": {},
   "outputs": [],
   "source": [
    "def report_best_scores(results, n_top=3):\n",
    "    for i in range(1, n_top + 1):\n",
    "        candidates = np.flatnonzero(results['rank_test_score'] == i)\n",
    "        for candidate in candidates:\n",
    "            print(\"Model with rank: {0}\".format(i))\n",
    "            print(\"Mean train score: {0:.3f} (std: {1:.3f})\".format(\n",
    "                  results['mean_train_score'][candidate],\n",
    "                  results['std_train_score'][candidate]))\n",
    "            print(\"Mean validation score: {0:.3f} (std: {1:.3f})\".format(\n",
    "                  results['mean_test_score'][candidate],\n",
    "                  results['std_test_score'][candidate]))\n",
    "            print(\"Parameters: {0}\".format(results['params'][candidate]))\n",
    "            print(\"\")"
   ]
  },
  {
   "cell_type": "markdown",
   "metadata": {},
   "source": [
    "## xgboost_numerical_features"
   ]
  },
  {
   "cell_type": "markdown",
   "metadata": {},
   "source": [
    "##### hyperparameter searching"
   ]
  },
  {
   "cell_type": "code",
   "execution_count": 149,
   "metadata": {},
   "outputs": [
    {
     "name": "stdout",
     "output_type": "stream",
     "text": [
      "Fitting 10 folds for each of 10 candidates, totalling 100 fits\n"
     ]
    },
    {
     "name": "stderr",
     "output_type": "stream",
     "text": [
      "[Parallel(n_jobs=1)]: Using backend SequentialBackend with 1 concurrent workers.\n"
     ]
    },
    {
     "name": "stdout",
     "output_type": "stream",
     "text": [
      "Model with rank: 1\n",
      "Mean train score: 0.898 (std: 0.004)\n",
      "Mean validation score: 0.857 (std: 0.028)\n",
      "Parameters: {'colsample_bytree': 0.8799787589874962, 'gamma': 0.13290955876775362, 'learning_rate': 0.11540576419240914, 'max_depth': 3, 'n_estimators': 100, 'subsample': 0.9333970968251356}\n",
      "\n",
      "Model with rank: 2\n",
      "Mean train score: 0.917 (std: 0.002)\n",
      "Mean validation score: 0.856 (std: 0.030)\n",
      "Parameters: {'colsample_bytree': 0.7822259385976673, 'gamma': 0.20711750954052566, 'learning_rate': 0.11882397982009439, 'max_depth': 3, 'n_estimators': 142, 'subsample': 0.831935124075818}\n",
      "\n",
      "Model with rank: 3\n",
      "Mean train score: 0.961 (std: 0.002)\n",
      "Mean validation score: 0.855 (std: 0.026)\n",
      "Parameters: {'colsample_bytree': 0.967723305148511, 'gamma': 0.47900675223741873, 'learning_rate': 0.19840113616040359, 'max_depth': 4, 'n_estimators': 104, 'subsample': 0.9983955652246075}\n",
      "\n"
     ]
    },
    {
     "name": "stderr",
     "output_type": "stream",
     "text": [
      "[Parallel(n_jobs=1)]: Done 100 out of 100 | elapsed:   20.5s finished\n"
     ]
    }
   ],
   "source": [
    "xgb_model= xgb.XGBClassifier(objective=\"binary:logistic\", random_state=5)\n",
    "\n",
    "params = {\n",
    "    \"colsample_bytree\": uniform(0.7, 0.3),\n",
    "    \"gamma\": uniform(0, 0.5),\n",
    "    \"learning_rate\": uniform(0.03, 0.3), # default 0.1 \n",
    "    \"max_depth\": randint(2, 6), # default 3\n",
    "    \"n_estimators\": randint(100, 150), # default 100\n",
    "    \"subsample\": uniform(0.6, 0.4)\n",
    "}\n",
    "\n",
    "search = RandomizedSearchCV(xgb_model, param_distributions=params, random_state=5, n_iter=10, cv=10, verbose=1, n_jobs=1, return_train_score=True)\n",
    "search.fit(numerical_data, numerical_label)\n",
    "\n",
    "report_best_scores(search.cv_results_, 3)"
   ]
  },
  {
   "cell_type": "markdown",
   "metadata": {},
   "source": [
    "##### train with selected hyper"
   ]
  },
  {
   "cell_type": "code",
   "execution_count": 15,
   "metadata": {},
   "outputs": [
    {
     "name": "stdout",
     "output_type": "stream",
     "text": [
      "[0]\tvalidation_0-auc:0.88583\tvalidation_0-error:0.17500\n",
      "[1]\tvalidation_0-auc:0.89536\tvalidation_0-error:0.15333\n",
      "[2]\tvalidation_0-auc:0.89558\tvalidation_0-error:0.15167\n",
      "[3]\tvalidation_0-auc:0.89511\tvalidation_0-error:0.15333\n",
      "[4]\tvalidation_0-auc:0.89922\tvalidation_0-error:0.15167\n",
      "[5]\tvalidation_0-auc:0.89963\tvalidation_0-error:0.15500\n",
      "[6]\tvalidation_0-auc:0.90025\tvalidation_0-error:0.15333\n",
      "[7]\tvalidation_0-auc:0.89970\tvalidation_0-error:0.15500\n",
      "[8]\tvalidation_0-auc:0.90021\tvalidation_0-error:0.15667\n",
      "[9]\tvalidation_0-auc:0.90027\tvalidation_0-error:0.15500\n",
      "[10]\tvalidation_0-auc:0.89947\tvalidation_0-error:0.15333\n",
      "[11]\tvalidation_0-auc:0.89852\tvalidation_0-error:0.15333\n",
      "[12]\tvalidation_0-auc:0.89881\tvalidation_0-error:0.15333\n",
      "[13]\tvalidation_0-auc:0.89864\tvalidation_0-error:0.15500\n",
      "[14]\tvalidation_0-auc:0.89879\tvalidation_0-error:0.15667\n",
      "[15]\tvalidation_0-auc:0.89976\tvalidation_0-error:0.15500\n",
      "[16]\tvalidation_0-auc:0.89985\tvalidation_0-error:0.15833\n",
      "[17]\tvalidation_0-auc:0.89997\tvalidation_0-error:0.15667\n",
      "[18]\tvalidation_0-auc:0.90001\tvalidation_0-error:0.15833\n",
      "[19]\tvalidation_0-auc:0.90017\tvalidation_0-error:0.15500\n",
      "[20]\tvalidation_0-auc:0.90163\tvalidation_0-error:0.15833\n",
      "[21]\tvalidation_0-auc:0.90314\tvalidation_0-error:0.15833\n",
      "[22]\tvalidation_0-auc:0.90365\tvalidation_0-error:0.15500\n",
      "[23]\tvalidation_0-auc:0.90387\tvalidation_0-error:0.15333\n",
      "[24]\tvalidation_0-auc:0.90443\tvalidation_0-error:0.15667\n",
      "[25]\tvalidation_0-auc:0.90505\tvalidation_0-error:0.15667\n",
      "[26]\tvalidation_0-auc:0.90540\tvalidation_0-error:0.15833\n",
      "[27]\tvalidation_0-auc:0.90544\tvalidation_0-error:0.15667\n",
      "[28]\tvalidation_0-auc:0.90593\tvalidation_0-error:0.15667\n",
      "[29]\tvalidation_0-auc:0.90619\tvalidation_0-error:0.15833\n",
      "[30]\tvalidation_0-auc:0.90700\tvalidation_0-error:0.15500\n",
      "[31]\tvalidation_0-auc:0.90720\tvalidation_0-error:0.15667\n",
      "[32]\tvalidation_0-auc:0.90762\tvalidation_0-error:0.15500\n",
      "[33]\tvalidation_0-auc:0.90764\tvalidation_0-error:0.15500\n",
      "[34]\tvalidation_0-auc:0.90775\tvalidation_0-error:0.15500\n",
      "[35]\tvalidation_0-auc:0.90803\tvalidation_0-error:0.15500\n",
      "[36]\tvalidation_0-auc:0.90849\tvalidation_0-error:0.15000\n",
      "[37]\tvalidation_0-auc:0.90858\tvalidation_0-error:0.15167\n",
      "[38]\tvalidation_0-auc:0.90848\tvalidation_0-error:0.15333\n",
      "[39]\tvalidation_0-auc:0.90898\tvalidation_0-error:0.15000\n",
      "[40]\tvalidation_0-auc:0.90921\tvalidation_0-error:0.15167\n",
      "[41]\tvalidation_0-auc:0.90904\tvalidation_0-error:0.15500\n",
      "[42]\tvalidation_0-auc:0.90971\tvalidation_0-error:0.15333\n",
      "[43]\tvalidation_0-auc:0.90975\tvalidation_0-error:0.15500\n",
      "[44]\tvalidation_0-auc:0.90995\tvalidation_0-error:0.15333\n",
      "[45]\tvalidation_0-auc:0.91014\tvalidation_0-error:0.15500\n",
      "[46]\tvalidation_0-auc:0.91047\tvalidation_0-error:0.15833\n",
      "[47]\tvalidation_0-auc:0.91111\tvalidation_0-error:0.15833\n",
      "[48]\tvalidation_0-auc:0.91129\tvalidation_0-error:0.15667\n",
      "[49]\tvalidation_0-auc:0.91170\tvalidation_0-error:0.15667\n",
      "[50]\tvalidation_0-auc:0.91199\tvalidation_0-error:0.15667\n",
      "[51]\tvalidation_0-auc:0.91186\tvalidation_0-error:0.15500\n",
      "[52]\tvalidation_0-auc:0.91237\tvalidation_0-error:0.15333\n",
      "[53]\tvalidation_0-auc:0.91221\tvalidation_0-error:0.15333\n",
      "[54]\tvalidation_0-auc:0.91286\tvalidation_0-error:0.15500\n",
      "[55]\tvalidation_0-auc:0.91281\tvalidation_0-error:0.15833\n",
      "[56]\tvalidation_0-auc:0.91200\tvalidation_0-error:0.15833\n",
      "[57]\tvalidation_0-auc:0.91209\tvalidation_0-error:0.15500\n",
      "[58]\tvalidation_0-auc:0.91183\tvalidation_0-error:0.15667\n",
      "[59]\tvalidation_0-auc:0.91166\tvalidation_0-error:0.15833\n",
      "[60]\tvalidation_0-auc:0.91173\tvalidation_0-error:0.15833\n",
      "[61]\tvalidation_0-auc:0.91236\tvalidation_0-error:0.15667\n",
      "[62]\tvalidation_0-auc:0.91235\tvalidation_0-error:0.16000\n",
      "[63]\tvalidation_0-auc:0.91284\tvalidation_0-error:0.16333\n",
      "[64]\tvalidation_0-auc:0.91285\tvalidation_0-error:0.16167\n",
      "[65]\tvalidation_0-auc:0.91294\tvalidation_0-error:0.16167\n",
      "[66]\tvalidation_0-auc:0.91305\tvalidation_0-error:0.16000\n",
      "[67]\tvalidation_0-auc:0.91309\tvalidation_0-error:0.16000\n",
      "[68]\tvalidation_0-auc:0.91307\tvalidation_0-error:0.16000\n",
      "[69]\tvalidation_0-auc:0.91361\tvalidation_0-error:0.15833\n",
      "[70]\tvalidation_0-auc:0.91394\tvalidation_0-error:0.16000\n",
      "[71]\tvalidation_0-auc:0.91413\tvalidation_0-error:0.16167\n",
      "[72]\tvalidation_0-auc:0.91393\tvalidation_0-error:0.16167\n",
      "[73]\tvalidation_0-auc:0.91356\tvalidation_0-error:0.16167\n",
      "[74]\tvalidation_0-auc:0.91333\tvalidation_0-error:0.15833\n",
      "[75]\tvalidation_0-auc:0.91326\tvalidation_0-error:0.15667\n",
      "[76]\tvalidation_0-auc:0.91330\tvalidation_0-error:0.15833\n",
      "[77]\tvalidation_0-auc:0.91344\tvalidation_0-error:0.16167\n",
      "[78]\tvalidation_0-auc:0.91380\tvalidation_0-error:0.15833\n",
      "[79]\tvalidation_0-auc:0.91373\tvalidation_0-error:0.16333\n",
      "[80]\tvalidation_0-auc:0.91381\tvalidation_0-error:0.16167\n",
      "[81]\tvalidation_0-auc:0.91391\tvalidation_0-error:0.16000\n",
      "[82]\tvalidation_0-auc:0.91392\tvalidation_0-error:0.15667\n",
      "[83]\tvalidation_0-auc:0.91353\tvalidation_0-error:0.16000\n",
      "[84]\tvalidation_0-auc:0.91366\tvalidation_0-error:0.15833\n",
      "[85]\tvalidation_0-auc:0.91391\tvalidation_0-error:0.16000\n",
      "[86]\tvalidation_0-auc:0.91433\tvalidation_0-error:0.16000\n",
      "[87]\tvalidation_0-auc:0.91451\tvalidation_0-error:0.16000\n",
      "[88]\tvalidation_0-auc:0.91485\tvalidation_0-error:0.15833\n",
      "[89]\tvalidation_0-auc:0.91488\tvalidation_0-error:0.15833\n",
      "[90]\tvalidation_0-auc:0.91505\tvalidation_0-error:0.16000\n",
      "[91]\tvalidation_0-auc:0.91518\tvalidation_0-error:0.16000\n",
      "[92]\tvalidation_0-auc:0.91541\tvalidation_0-error:0.15667\n",
      "[93]\tvalidation_0-auc:0.91549\tvalidation_0-error:0.15667\n",
      "[94]\tvalidation_0-auc:0.91537\tvalidation_0-error:0.15667\n",
      "[95]\tvalidation_0-auc:0.91573\tvalidation_0-error:0.15500\n",
      "[96]\tvalidation_0-auc:0.91523\tvalidation_0-error:0.15500\n",
      "[97]\tvalidation_0-auc:0.91518\tvalidation_0-error:0.15500\n",
      "[98]\tvalidation_0-auc:0.91531\tvalidation_0-error:0.15500\n",
      "[99]\tvalidation_0-auc:0.91540\tvalidation_0-error:0.15500\n"
     ]
    }
   ],
   "source": [
    "xgb_numerical_features_model= xgb.XGBClassifier(objective=\"binary:logistic\", \n",
    "                             random_state=5, \n",
    "                             colsample_bytree=0.8799787589874962,\n",
    "                             gamma= 0.13290955876775362, \n",
    "                             learning_rate= 0.11540576419240914,\n",
    "                             max_depth= 3,\n",
    "                             n_estimators= 100,\n",
    "                             subsample= 0.9333970968251356,\n",
    "                             eval_metric=[\"auc\", \"error\"])\n",
    "x_train, x_test, y_train, y_test = train_test_split(numerical_data, numerical_label, random_state=5)\n",
    "xgb_numerical_features_model.fit(x_train, y_train, eval_set=[(x_test, y_test)])\n",
    "y_pred = xgb_numerical_features_model.predict(x_test)"
   ]
  },
  {
   "cell_type": "markdown",
   "metadata": {
    "colab_type": "text",
    "id": "MK_rdXETIKS4"
   },
   "source": [
    "\n",
    "\n",
    "**The management wants to know what are the most important features for your model.  Can you tell them?**\n",
    "\n",
    "> #### Task:\n",
    "- **Visualize the top 20 features and their feature importance.**\n",
    "\n"
   ]
  },
  {
   "cell_type": "markdown",
   "metadata": {},
   "source": [
    "top5 features: runtime, overall_views, rating_tomatoes, rating_imdbm, rating_metacritic"
   ]
  },
  {
   "cell_type": "code",
   "execution_count": 16,
   "metadata": {},
   "outputs": [
    {
     "data": {
      "text/plain": [
       "<matplotlib.axes._subplots.AxesSubplot at 0x7f92505a30f0>"
      ]
     },
     "execution_count": 16,
     "metadata": {},
     "output_type": "execute_result"
    },
    {
     "data": {
      "image/png": "[encoded data removed]",
      "text/plain": [
       "<Figure size 1224x576 with 1 Axes>"
      ]
     },
     "metadata": {
      "needs_background": "light"
     },
     "output_type": "display_data"
    }
   ],
   "source": [
    "xgb.plot_importance(xgb_numerical_features_model)"
   ]
  },
  {
   "cell_type": "markdown",
   "metadata": {
    "colab_type": "text",
    "id": "UFogmgYZIKTE"
   },
   "source": [
    "> #### Task:\n",
    "- **Submit the predictions on the test dataset using your optimized model** <br/>\n",
    "    For each record in the test set (`test.csv`), you must predict the value of the `revenue_category` variable. You should submit a CSV file with a header row and one row per test entry. The file (submissions.csv) should have exactly 2 columns:\n",
    "\n",
    "The file (`submissions.csv`) should have exactly 2 columns:\n",
    "   - **title**\n",
    "   - **revenue_category**"
   ]
  },
  {
   "cell_type": "code",
   "execution_count": 17,
   "metadata": {
    "colab": {},
    "colab_type": "code",
    "id": "7xgNg25MIKTG"
   },
   "outputs": [
    {
     "data": {
      "text/html": [
       "<div>\n",
       "<style scoped>\n",
       "    .dataframe tbody tr th:only-of-type {\n",
       "        vertical-align: middle;\n",
       "    }\n",
       "\n",
       "    .dataframe tbody tr th {\n",
       "        vertical-align: top;\n",
       "    }\n",
       "\n",
       "    .dataframe thead th {\n",
       "        text-align: right;\n",
       "    }\n",
       "</style>\n",
       "<table border=\"1\" class=\"dataframe\">\n",
       "  <thead>\n",
       "    <tr style=\"text-align: right;\">\n",
       "      <th></th>\n",
       "      <th>title</th>\n",
       "      <th>country</th>\n",
       "      <th>genres</th>\n",
       "      <th>language</th>\n",
       "      <th>writer_count</th>\n",
       "      <th>title_adaption</th>\n",
       "      <th>censor_rating</th>\n",
       "      <th>release_date</th>\n",
       "      <th>runtime</th>\n",
       "      <th>dvd_release_date</th>\n",
       "      <th>users_votes</th>\n",
       "      <th>comments</th>\n",
       "      <th>likes</th>\n",
       "      <th>overall_views</th>\n",
       "      <th>dislikes</th>\n",
       "      <th>ratings_imdb</th>\n",
       "      <th>ratings_tomatoes</th>\n",
       "      <th>ratings_metacritic</th>\n",
       "      <th>special_award</th>\n",
       "      <th>awards_win</th>\n",
       "      <th>awards_nomination</th>\n",
       "    </tr>\n",
       "  </thead>\n",
       "  <tbody>\n",
       "    <tr>\n",
       "      <th>0</th>\n",
       "      <td>Delhi-6</td>\n",
       "      <td>India</td>\n",
       "      <td>Comedy, Drama</td>\n",
       "      <td>Hindi, English</td>\n",
       "      <td>3.0</td>\n",
       "      <td>True</td>\n",
       "      <td>Not Rated</td>\n",
       "      <td>20-Feb-09</td>\n",
       "      <td>141 min</td>\n",
       "      <td>16-Jun-09</td>\n",
       "      <td>6,337</td>\n",
       "      <td>7.0</td>\n",
       "      <td>43.0</td>\n",
       "      <td>165008.0</td>\n",
       "      <td>13.0</td>\n",
       "      <td>6.0/10</td>\n",
       "      <td>40%</td>\n",
       "      <td>45/100</td>\n",
       "      <td>0</td>\n",
       "      <td>2</td>\n",
       "      <td>7</td>\n",
       "    </tr>\n",
       "    <tr>\n",
       "      <th>1</th>\n",
       "      <td>Before I Disappear</td>\n",
       "      <td>USA, UK</td>\n",
       "      <td>Drama</td>\n",
       "      <td>English</td>\n",
       "      <td>1.0</td>\n",
       "      <td>False</td>\n",
       "      <td>Unrated</td>\n",
       "      <td>28-Nov-14</td>\n",
       "      <td>93 min</td>\n",
       "      <td>19-May-15</td>\n",
       "      <td>8,370</td>\n",
       "      <td>NaN</td>\n",
       "      <td>NaN</td>\n",
       "      <td>NaN</td>\n",
       "      <td>NaN</td>\n",
       "      <td>7.2/10</td>\n",
       "      <td>38%</td>\n",
       "      <td>47/100</td>\n",
       "      <td>0</td>\n",
       "      <td>16</td>\n",
       "      <td>8</td>\n",
       "    </tr>\n",
       "    <tr>\n",
       "      <th>2</th>\n",
       "      <td>Good Year, A</td>\n",
       "      <td>USA, UK</td>\n",
       "      <td>Comedy, Drama, Romance</td>\n",
       "      <td>English, French, Russian</td>\n",
       "      <td>2.0</td>\n",
       "      <td>True</td>\n",
       "      <td>PG-13</td>\n",
       "      <td>10-Nov-06</td>\n",
       "      <td>117 min</td>\n",
       "      <td>27-Feb-07</td>\n",
       "      <td>82,062</td>\n",
       "      <td>14.0</td>\n",
       "      <td>276.0</td>\n",
       "      <td>187788.0</td>\n",
       "      <td>17.0</td>\n",
       "      <td>7.0/10</td>\n",
       "      <td>25%</td>\n",
       "      <td>47/100</td>\n",
       "      <td>0</td>\n",
       "      <td>1</td>\n",
       "      <td>2</td>\n",
       "    </tr>\n",
       "    <tr>\n",
       "      <th>3</th>\n",
       "      <td>Brüno</td>\n",
       "      <td>USA, UK</td>\n",
       "      <td>Comedy</td>\n",
       "      <td>English, German</td>\n",
       "      <td>9.0</td>\n",
       "      <td>True</td>\n",
       "      <td>R</td>\n",
       "      <td>10-Jul-09</td>\n",
       "      <td>81 min</td>\n",
       "      <td>17-Nov-09</td>\n",
       "      <td>1,33,925</td>\n",
       "      <td>81.0</td>\n",
       "      <td>301.0</td>\n",
       "      <td>200324.0</td>\n",
       "      <td>43.0</td>\n",
       "      <td>5.8/10</td>\n",
       "      <td>67%</td>\n",
       "      <td>54/100</td>\n",
       "      <td>0</td>\n",
       "      <td>2</td>\n",
       "      <td>5</td>\n",
       "    </tr>\n",
       "    <tr>\n",
       "      <th>4</th>\n",
       "      <td>How to Lose a Guy in 10 Days</td>\n",
       "      <td>USA, Germany</td>\n",
       "      <td>Comedy, Romance</td>\n",
       "      <td>English</td>\n",
       "      <td>5.0</td>\n",
       "      <td>True</td>\n",
       "      <td>PG-13</td>\n",
       "      <td>07-Feb-03</td>\n",
       "      <td>116 min</td>\n",
       "      <td>01-Jul-03</td>\n",
       "      <td>1,90,396</td>\n",
       "      <td>74.0</td>\n",
       "      <td>480.0</td>\n",
       "      <td>740345.0</td>\n",
       "      <td>23.0</td>\n",
       "      <td>6.4/10</td>\n",
       "      <td>42%</td>\n",
       "      <td>45/100</td>\n",
       "      <td>0</td>\n",
       "      <td>1</td>\n",
       "      <td>8</td>\n",
       "    </tr>\n",
       "  </tbody>\n",
       "</table>\n",
       "</div>"
      ],
      "text/plain": [
       "                           title       country                  genres  \\\n",
       "0                       Delhi-6          India           Comedy, Drama   \n",
       "1            Before I Disappear        USA, UK                   Drama   \n",
       "2                  Good Year, A        USA, UK  Comedy, Drama, Romance   \n",
       "3                         Brüno        USA, UK                  Comedy   \n",
       "4  How to Lose a Guy in 10 Days   USA, Germany         Comedy, Romance   \n",
       "\n",
       "                   language  writer_count  title_adaption censor_rating  \\\n",
       "0            Hindi, English           3.0            True     Not Rated   \n",
       "1                   English           1.0           False       Unrated   \n",
       "2  English, French, Russian           2.0            True         PG-13   \n",
       "3           English, German           9.0            True             R   \n",
       "4                   English           5.0            True         PG-13   \n",
       "\n",
       "  release_date  runtime dvd_release_date users_votes  comments  likes  \\\n",
       "0    20-Feb-09  141 min        16-Jun-09       6,337       7.0   43.0   \n",
       "1    28-Nov-14   93 min        19-May-15       8,370       NaN    NaN   \n",
       "2    10-Nov-06  117 min        27-Feb-07      82,062      14.0  276.0   \n",
       "3    10-Jul-09   81 min        17-Nov-09    1,33,925      81.0  301.0   \n",
       "4    07-Feb-03  116 min        01-Jul-03    1,90,396      74.0  480.0   \n",
       "\n",
       "   overall_views  dislikes ratings_imdb ratings_tomatoes ratings_metacritic  \\\n",
       "0       165008.0      13.0       6.0/10              40%             45/100   \n",
       "1            NaN       NaN       7.2/10              38%             47/100   \n",
       "2       187788.0      17.0       7.0/10              25%             47/100   \n",
       "3       200324.0      43.0       5.8/10              67%             54/100   \n",
       "4       740345.0      23.0       6.4/10              42%             45/100   \n",
       "\n",
       "   special_award  awards_win  awards_nomination  \n",
       "0              0           2                  7  \n",
       "1              0          16                  8  \n",
       "2              0           1                  2  \n",
       "3              0           2                  5  \n",
       "4              0           1                  8  "
      ]
     },
     "execution_count": 17,
     "metadata": {},
     "output_type": "execute_result"
    }
   ],
   "source": [
    "#Loading Test data\n",
    "test_data=pd.read_csv('test.csv')\n",
    "test_data.head()"
   ]
  },
  {
   "cell_type": "code",
   "execution_count": 148,
   "metadata": {},
   "outputs": [],
   "source": [
    "# 13 numercial features model\n",
    "numerical_test_data = test_data[numerical_rows]\n",
    "numerical_test_data = numerical_data_preprocessing(numerical_test_data)\n",
    "numerical_test_label = xgb_numerical_features_model.predict(numerical_test_data)\n",
    "\n",
    "submission_df = pd.DataFrame(data={'title': test_data['title'], 'revenue_category':numerical_test_label})\n",
    "submission_df.to_csv('submissions.csv',index=False)"
   ]
  },
  {
   "cell_type": "code",
   "execution_count": null,
   "metadata": {
    "colab": {},
    "colab_type": "code",
    "id": "OaxN7BjwIKTL"
   },
   "outputs": [],
   "source": []
  },
  {
   "cell_type": "markdown",
   "metadata": {
    "colab_type": "text",
    "id": "H_pB8zTcIKTW"
   },
   "source": [
    "---"
   ]
  }
 ],
 "metadata": {
  "colab": {
   "collapsed_sections": [],
   "name": "Questions_with_solution.ipynb",
   "provenance": []
  },
  "kernelspec": {
   "display_name": "Python 3",
   "language": "python",
   "name": "python3"
  },
  "language_info": {
   "codemirror_mode": {
    "name": "ipython",
    "version": 3
   },
   "file_extension": ".py",
   "mimetype": "text/x-python",
   "name": "python",
   "nbconvert_exporter": "python",
   "pygments_lexer": "ipython3",
   "version": "3.6.8"
  },
  "toc": {
   "base_numbering": 1,
   "nav_menu": {},
   "number_sections": true,
   "sideBar": true,
   "skip_h1_title": false,
   "title_cell": "Table of Contents",
   "title_sidebar": "Contents",
   "toc_cell": false,
   "toc_position": {},
   "toc_section_display": true,
   "toc_window_display": false
  }
 },
 "nbformat": 4,
 "nbformat_minor": 4
}
